{
 "cells": [
  {
   "attachments": {},
   "cell_type": "markdown",
   "metadata": {},
   "source": [
    "First we do the import of the needed libraries"
   ]
  },
  {
   "cell_type": "code",
   "execution_count": 81,
   "metadata": {},
   "outputs": [],
   "source": [
    "import numpy as np\n",
    "import seaborn as sns\n",
    "import pandas as pd\n",
    "import matplotlib.pyplot as plt\n",
    "%matplotlib inline"
   ]
  },
  {
   "cell_type": "code",
   "execution_count": 82,
   "metadata": {},
   "outputs": [
    {
     "data": {
      "text/html": [
       "<div>\n",
       "<style scoped>\n",
       "    .dataframe tbody tr th:only-of-type {\n",
       "        vertical-align: middle;\n",
       "    }\n",
       "\n",
       "    .dataframe tbody tr th {\n",
       "        vertical-align: top;\n",
       "    }\n",
       "\n",
       "    .dataframe thead th {\n",
       "        text-align: right;\n",
       "    }\n",
       "</style>\n",
       "<table border=\"1\" class=\"dataframe\">\n",
       "  <thead>\n",
       "    <tr style=\"text-align: right;\">\n",
       "      <th></th>\n",
       "      <th>Model</th>\n",
       "      <th>Year</th>\n",
       "      <th>Status</th>\n",
       "      <th>Mileage</th>\n",
       "      <th>Price</th>\n",
       "      <th>MSRP</th>\n",
       "    </tr>\n",
       "    <tr>\n",
       "      <th>id</th>\n",
       "      <th></th>\n",
       "      <th></th>\n",
       "      <th></th>\n",
       "      <th></th>\n",
       "      <th></th>\n",
       "      <th></th>\n",
       "    </tr>\n",
       "  </thead>\n",
       "  <tbody>\n",
       "    <tr>\n",
       "      <th>0</th>\n",
       "      <td>2022 Acura TLX A-Spec</td>\n",
       "      <td>2022</td>\n",
       "      <td>New</td>\n",
       "      <td>NaN</td>\n",
       "      <td>$49,445</td>\n",
       "      <td>MSRP $49,445</td>\n",
       "    </tr>\n",
       "    <tr>\n",
       "      <th>1</th>\n",
       "      <td>2023 Acura RDX A-Spec</td>\n",
       "      <td>2023</td>\n",
       "      <td>New</td>\n",
       "      <td>NaN</td>\n",
       "      <td>$50,895</td>\n",
       "      <td>NaN</td>\n",
       "    </tr>\n",
       "    <tr>\n",
       "      <th>2</th>\n",
       "      <td>2023 Acura TLX Type S</td>\n",
       "      <td>2023</td>\n",
       "      <td>New</td>\n",
       "      <td>NaN</td>\n",
       "      <td>$57,745</td>\n",
       "      <td>NaN</td>\n",
       "    </tr>\n",
       "    <tr>\n",
       "      <th>3</th>\n",
       "      <td>2023 Acura TLX Type S</td>\n",
       "      <td>2023</td>\n",
       "      <td>New</td>\n",
       "      <td>NaN</td>\n",
       "      <td>$57,545</td>\n",
       "      <td>NaN</td>\n",
       "    </tr>\n",
       "    <tr>\n",
       "      <th>4</th>\n",
       "      <td>2019 Acura MDX Sport Hybrid 3.0L w/Technology ...</td>\n",
       "      <td>2019</td>\n",
       "      <td>Used</td>\n",
       "      <td>32,675 mi.</td>\n",
       "      <td>$40,990</td>\n",
       "      <td>$600 price drop</td>\n",
       "    </tr>\n",
       "    <tr>\n",
       "      <th>...</th>\n",
       "      <td>...</td>\n",
       "      <td>...</td>\n",
       "      <td>...</td>\n",
       "      <td>...</td>\n",
       "      <td>...</td>\n",
       "      <td>...</td>\n",
       "    </tr>\n",
       "    <tr>\n",
       "      <th>10005</th>\n",
       "      <td>2023 Volkswagen Atlas 3.6L SE w/Technology</td>\n",
       "      <td>2023</td>\n",
       "      <td>New</td>\n",
       "      <td>NaN</td>\n",
       "      <td>$47,346</td>\n",
       "      <td>NaN</td>\n",
       "    </tr>\n",
       "    <tr>\n",
       "      <th>10006</th>\n",
       "      <td>2023 Volkswagen Taos 1.5T SE</td>\n",
       "      <td>2023</td>\n",
       "      <td>New</td>\n",
       "      <td>NaN</td>\n",
       "      <td>$30,895</td>\n",
       "      <td>NaN</td>\n",
       "    </tr>\n",
       "    <tr>\n",
       "      <th>10007</th>\n",
       "      <td>2012 Volkswagen Beetle</td>\n",
       "      <td>2012</td>\n",
       "      <td>Used</td>\n",
       "      <td>100,395 mi.</td>\n",
       "      <td>$9,994</td>\n",
       "      <td>$252 price drop</td>\n",
       "    </tr>\n",
       "    <tr>\n",
       "      <th>10008</th>\n",
       "      <td>2022 Volkswagen ID.4 Pro S</td>\n",
       "      <td>2022</td>\n",
       "      <td>New</td>\n",
       "      <td>NaN</td>\n",
       "      <td>$52,585</td>\n",
       "      <td>NaN</td>\n",
       "    </tr>\n",
       "    <tr>\n",
       "      <th>10009</th>\n",
       "      <td>2013 Volkswagen Passat 2.5 SE</td>\n",
       "      <td>2013</td>\n",
       "      <td>Used</td>\n",
       "      <td>125,757 mi.</td>\n",
       "      <td>$10,995</td>\n",
       "      <td>NaN</td>\n",
       "    </tr>\n",
       "  </tbody>\n",
       "</table>\n",
       "<p>115762 rows × 6 columns</p>\n",
       "</div>"
      ],
      "text/plain": [
       "                                                   Model  Year Status  \\\n",
       "id                                                                      \n",
       "0                                  2022 Acura TLX A-Spec  2022    New   \n",
       "1                                  2023 Acura RDX A-Spec  2023    New   \n",
       "2                                  2023 Acura TLX Type S  2023    New   \n",
       "3                                  2023 Acura TLX Type S  2023    New   \n",
       "4      2019 Acura MDX Sport Hybrid 3.0L w/Technology ...  2019   Used   \n",
       "...                                                  ...   ...    ...   \n",
       "10005         2023 Volkswagen Atlas 3.6L SE w/Technology  2023    New   \n",
       "10006                       2023 Volkswagen Taos 1.5T SE  2023    New   \n",
       "10007                            2012 Volkswagen Beetle   2012   Used   \n",
       "10008                         2022 Volkswagen ID.4 Pro S  2022    New   \n",
       "10009                      2013 Volkswagen Passat 2.5 SE  2013   Used   \n",
       "\n",
       "           Mileage    Price             MSRP  \n",
       "id                                            \n",
       "0              NaN  $49,445     MSRP $49,445  \n",
       "1              NaN  $50,895              NaN  \n",
       "2              NaN  $57,745              NaN  \n",
       "3              NaN  $57,545              NaN  \n",
       "4       32,675 mi.  $40,990  $600 price drop  \n",
       "...            ...      ...              ...  \n",
       "10005          NaN  $47,346              NaN  \n",
       "10006          NaN  $30,895              NaN  \n",
       "10007  100,395 mi.   $9,994  $252 price drop  \n",
       "10008          NaN  $52,585              NaN  \n",
       "10009  125,757 mi.  $10,995              NaN  \n",
       "\n",
       "[115762 rows x 6 columns]"
      ]
     },
     "execution_count": 82,
     "metadata": {},
     "output_type": "execute_result"
    }
   ],
   "source": [
    "Not_available = ['Not specified', 'Not available', 'Not Priced']\n",
    "df = pd.read_csv('car_data.csv', sep = ',', index_col= 'id', na_values=Not_available)\n",
    "df"
   ]
  },
  {
   "cell_type": "code",
   "execution_count": 83,
   "metadata": {},
   "outputs": [
    {
     "name": "stdout",
     "output_type": "stream",
     "text": [
      "<class 'pandas.core.frame.DataFrame'>\n",
      "Int64Index: 115762 entries, 0 to 10009\n",
      "Data columns (total 6 columns):\n",
      " #   Column   Non-Null Count   Dtype \n",
      "---  ------   --------------   ----- \n",
      " 0   Model    115762 non-null  object\n",
      " 1   Year     115762 non-null  int64 \n",
      " 2   Status   115762 non-null  object\n",
      " 3   Mileage  67894 non-null   object\n",
      " 4   Price    115110 non-null  object\n",
      " 5   MSRP     43665 non-null   object\n",
      "dtypes: int64(1), object(5)\n",
      "memory usage: 6.2+ MB\n"
     ]
    }
   ],
   "source": [
    "df.info()"
   ]
  },
  {
   "cell_type": "code",
   "execution_count": 84,
   "metadata": {},
   "outputs": [
    {
     "data": {
      "text/plain": [
       "MSRP       72097\n",
       "Mileage    47868\n",
       "Price        652\n",
       "Model          0\n",
       "Year           0\n",
       "Status         0\n",
       "dtype: int64"
      ]
     },
     "execution_count": 84,
     "metadata": {},
     "output_type": "execute_result"
    }
   ],
   "source": [
    "df.isna().sum().sort_values(ascending = False)"
   ]
  },
  {
   "attachments": {},
   "cell_type": "markdown",
   "metadata": {},
   "source": [
    "Since the ammount of missing values on the MSRP and Mileage columns surpasses the 10%, the only option is to delete these columns, as for the price, we´ll convert it into a float in order to replace missing values"
   ]
  },
  {
   "cell_type": "code",
   "execution_count": 85,
   "metadata": {},
   "outputs": [
    {
     "name": "stdout",
     "output_type": "stream",
     "text": [
      "<class 'pandas.core.frame.DataFrame'>\n",
      "Int64Index: 115762 entries, 0 to 10009\n",
      "Data columns (total 4 columns):\n",
      " #   Column  Non-Null Count   Dtype  \n",
      "---  ------  --------------   -----  \n",
      " 0   Model   115762 non-null  object \n",
      " 1   Year    115762 non-null  int64  \n",
      " 2   Status  115762 non-null  object \n",
      " 3   Price   115762 non-null  float64\n",
      "dtypes: float64(1), int64(1), object(2)\n",
      "memory usage: 4.4+ MB\n"
     ]
    },
    {
     "data": {
      "text/plain": [
       "Model     0\n",
       "Year      0\n",
       "Status    0\n",
       "Price     0\n",
       "dtype: int64"
      ]
     },
     "execution_count": 85,
     "metadata": {},
     "output_type": "execute_result"
    }
   ],
   "source": [
    "df.drop(columns = ['MSRP','Mileage'], inplace = True)\n",
    "def clean_currency(x):\n",
    "    \"\"\" If the value is a string, then remove currency symbol and delimiters\n",
    "    otherwise, the value is numeric and can be converted\n",
    "    \"\"\"\n",
    "    if isinstance(x, str):\n",
    "        return(x.replace('$', '').replace(',', ''))\n",
    "    return(x)\n",
    "df['Price'] = df['Price'].apply(clean_currency).astype('float')\n",
    "df['Price'] = df['Price'].fillna(df['Price'].mode()[0])\n",
    "df.info()\n",
    "df.isna().sum().sort_values(ascending = False)"
   ]
  },
  {
   "attachments": {},
   "cell_type": "markdown",
   "metadata": {},
   "source": [
    "Since our data is too big to process accordingly, we'll take a sample of 1000 rows"
   ]
  },
  {
   "cell_type": "code",
   "execution_count": 86,
   "metadata": {},
   "outputs": [
    {
     "data": {
      "text/html": [
       "<div>\n",
       "<style scoped>\n",
       "    .dataframe tbody tr th:only-of-type {\n",
       "        vertical-align: middle;\n",
       "    }\n",
       "\n",
       "    .dataframe tbody tr th {\n",
       "        vertical-align: top;\n",
       "    }\n",
       "\n",
       "    .dataframe thead th {\n",
       "        text-align: right;\n",
       "    }\n",
       "</style>\n",
       "<table border=\"1\" class=\"dataframe\">\n",
       "  <thead>\n",
       "    <tr style=\"text-align: right;\">\n",
       "      <th></th>\n",
       "      <th>Model</th>\n",
       "      <th>Year</th>\n",
       "      <th>Status</th>\n",
       "      <th>Price</th>\n",
       "    </tr>\n",
       "    <tr>\n",
       "      <th>id</th>\n",
       "      <th></th>\n",
       "      <th></th>\n",
       "      <th></th>\n",
       "      <th></th>\n",
       "    </tr>\n",
       "  </thead>\n",
       "  <tbody>\n",
       "    <tr>\n",
       "      <th>0</th>\n",
       "      <td>2022 Acura TLX A-Spec</td>\n",
       "      <td>2022</td>\n",
       "      <td>New</td>\n",
       "      <td>49445.0</td>\n",
       "    </tr>\n",
       "    <tr>\n",
       "      <th>1</th>\n",
       "      <td>2023 Acura RDX A-Spec</td>\n",
       "      <td>2023</td>\n",
       "      <td>New</td>\n",
       "      <td>50895.0</td>\n",
       "    </tr>\n",
       "    <tr>\n",
       "      <th>2</th>\n",
       "      <td>2023 Acura TLX Type S</td>\n",
       "      <td>2023</td>\n",
       "      <td>New</td>\n",
       "      <td>57745.0</td>\n",
       "    </tr>\n",
       "    <tr>\n",
       "      <th>3</th>\n",
       "      <td>2023 Acura TLX Type S</td>\n",
       "      <td>2023</td>\n",
       "      <td>New</td>\n",
       "      <td>57545.0</td>\n",
       "    </tr>\n",
       "    <tr>\n",
       "      <th>4</th>\n",
       "      <td>2019 Acura MDX Sport Hybrid 3.0L w/Technology ...</td>\n",
       "      <td>2019</td>\n",
       "      <td>Used</td>\n",
       "      <td>40990.0</td>\n",
       "    </tr>\n",
       "    <tr>\n",
       "      <th>...</th>\n",
       "      <td>...</td>\n",
       "      <td>...</td>\n",
       "      <td>...</td>\n",
       "      <td>...</td>\n",
       "    </tr>\n",
       "    <tr>\n",
       "      <th>95</th>\n",
       "      <td>2023 Acura Integra A-Spec Technology</td>\n",
       "      <td>2023</td>\n",
       "      <td>New</td>\n",
       "      <td>37395.0</td>\n",
       "    </tr>\n",
       "    <tr>\n",
       "      <th>96</th>\n",
       "      <td>2023 Acura Integra w/A-Spec Tech Package</td>\n",
       "      <td>2023</td>\n",
       "      <td>New</td>\n",
       "      <td>38095.0</td>\n",
       "    </tr>\n",
       "    <tr>\n",
       "      <th>97</th>\n",
       "      <td>2023 Acura TLX Technology</td>\n",
       "      <td>2023</td>\n",
       "      <td>New</td>\n",
       "      <td>45245.0</td>\n",
       "    </tr>\n",
       "    <tr>\n",
       "      <th>98</th>\n",
       "      <td>2022 Acura MDX Type S</td>\n",
       "      <td>2022</td>\n",
       "      <td>New</td>\n",
       "      <td>73595.0</td>\n",
       "    </tr>\n",
       "    <tr>\n",
       "      <th>99</th>\n",
       "      <td>2023 Acura Integra A-Spec</td>\n",
       "      <td>2023</td>\n",
       "      <td>New</td>\n",
       "      <td>34395.0</td>\n",
       "    </tr>\n",
       "  </tbody>\n",
       "</table>\n",
       "<p>100 rows × 4 columns</p>\n",
       "</div>"
      ],
      "text/plain": [
       "                                                Model  Year Status    Price\n",
       "id                                                                         \n",
       "0                               2022 Acura TLX A-Spec  2022    New  49445.0\n",
       "1                               2023 Acura RDX A-Spec  2023    New  50895.0\n",
       "2                               2023 Acura TLX Type S  2023    New  57745.0\n",
       "3                               2023 Acura TLX Type S  2023    New  57545.0\n",
       "4   2019 Acura MDX Sport Hybrid 3.0L w/Technology ...  2019   Used  40990.0\n",
       "..                                                ...   ...    ...      ...\n",
       "95               2023 Acura Integra A-Spec Technology  2023    New  37395.0\n",
       "96           2023 Acura Integra w/A-Spec Tech Package  2023    New  38095.0\n",
       "97                          2023 Acura TLX Technology  2023    New  45245.0\n",
       "98                              2022 Acura MDX Type S  2022    New  73595.0\n",
       "99                          2023 Acura Integra A-Spec  2023    New  34395.0\n",
       "\n",
       "[100 rows x 4 columns]"
      ]
     },
     "execution_count": 86,
     "metadata": {},
     "output_type": "execute_result"
    }
   ],
   "source": [
    "df_sample = df.iloc[:100]\n",
    "df_sample"
   ]
  },
  {
   "cell_type": "code",
   "execution_count": 87,
   "metadata": {},
   "outputs": [
    {
     "name": "stdout",
     "output_type": "stream",
     "text": [
      "<class 'pandas.core.frame.DataFrame'>\n",
      "Int64Index: 100 entries, 0 to 99\n",
      "Data columns (total 4 columns):\n",
      " #   Column  Non-Null Count  Dtype  \n",
      "---  ------  --------------  -----  \n",
      " 0   Model   100 non-null    object \n",
      " 1   Year    100 non-null    int64  \n",
      " 2   Status  100 non-null    object \n",
      " 3   Price   100 non-null    float64\n",
      "dtypes: float64(1), int64(1), object(2)\n",
      "memory usage: 3.9+ KB\n"
     ]
    }
   ],
   "source": [
    "df_sample.info()"
   ]
  },
  {
   "attachments": {},
   "cell_type": "markdown",
   "metadata": {},
   "source": [
    "We check if the current dataset has any missing values"
   ]
  },
  {
   "cell_type": "code",
   "execution_count": 88,
   "metadata": {},
   "outputs": [
    {
     "data": {
      "text/plain": [
       "Model     0\n",
       "Year      0\n",
       "Status    0\n",
       "Price     0\n",
       "dtype: int64"
      ]
     },
     "execution_count": 88,
     "metadata": {},
     "output_type": "execute_result"
    }
   ],
   "source": [
    "df_sample.isna().sum().sort_values(ascending = False)"
   ]
  },
  {
   "cell_type": "code",
   "execution_count": 89,
   "metadata": {},
   "outputs": [],
   "source": [
    "def Categorical_Variables(cat):\n",
    "    \n",
    "    #Rows\n",
    "    from math import ceil\n",
    "    filas = ceil(cat.shape[1] / 2)\n",
    "\n",
    "    #Graph\n",
    "    f, ax = plt.subplots(nrows = filas, ncols = 2, figsize = (16, filas * 6))\n",
    "\n",
    "    #One Dimentional Graph\n",
    "    ax = ax.flat \n",
    "\n",
    "    #Variable Cycle\n",
    "    for cada, variable in enumerate(cat):\n",
    "        cat[variable].value_counts().plot.barh(ax = ax[cada])\n",
    "        ax[cada].set_title(variable, fontsize = 12, fontweight = \"bold\")\n",
    "        ax[cada].tick_params(labelsize = 12)"
   ]
  },
  {
   "cell_type": "code",
   "execution_count": 90,
   "metadata": {},
   "outputs": [
    {
     "data": {
      "image/png": "[encoded data removed]",
      "text/plain": [
       "<Figure size 432x288 with 1 Axes>"
      ]
     },
     "metadata": {
      "needs_background": "light"
     },
     "output_type": "display_data"
    }
   ],
   "source": [
    "\n",
    "Price = df_sample[\"Price\"]\n",
    "Model = df_sample[\"Model\"]\n",
    "\n",
    "plt.plot(Model, Price)\n",
    "plt.ylabel('Price')\n",
    "plt.xlabel('Car Model')\n",
    "plt.title('Car Model vs Price Comparison')\n",
    "\n",
    "plt.show()"
   ]
  }
 ],
 "metadata": {
  "kernelspec": {
   "display_name": "Python 3",
   "language": "python",
   "name": "python3"
  },
  "language_info": {
   "codemirror_mode": {
    "name": "ipython",
    "version": 3
   },
   "file_extension": ".py",
   "mimetype": "text/x-python",
   "name": "python",
   "nbconvert_exporter": "python",
   "pygments_lexer": "ipython3",
   "version": "3.10.2"
  },
  "orig_nbformat": 4,
  "vscode": {
   "interpreter": {
    "hash": "8752a3743d6a7c0a6de20691dd916c139e08e4bca10339426c7597d1cf50df4e"
   }
  }
 },
 "nbformat": 4,
 "nbformat_minor": 2
}
