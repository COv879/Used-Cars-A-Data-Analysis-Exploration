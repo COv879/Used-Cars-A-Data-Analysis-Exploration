{
 "cells": [
  {
   "attachments": {},
   "cell_type": "markdown",
   "metadata": {},
   "source": [
    "1. Data Exploration"
   ]
  },
  {
   "attachments": {},
   "cell_type": "markdown",
   "metadata": {},
   "source": [
    "First we're going import the required libraries, then we obtain and display the data from the csv file"
   ]
  },
  {
   "cell_type": "code",
   "execution_count": 63,
   "metadata": {},
   "outputs": [],
   "source": [
    "import numpy as np\n",
    "import seaborn as sns\n",
    "import pandas as pd\n",
    "import matplotlib.pyplot as plt\n",
    "%matplotlib inline"
   ]
  },
  {
   "cell_type": "code",
   "execution_count": 64,
   "metadata": {},
   "outputs": [
    {
     "data": {
      "text/html": [
       "<div>\n",
       "<style scoped>\n",
       "    .dataframe tbody tr th:only-of-type {\n",
       "        vertical-align: middle;\n",
       "    }\n",
       "\n",
       "    .dataframe tbody tr th {\n",
       "        vertical-align: top;\n",
       "    }\n",
       "\n",
       "    .dataframe thead th {\n",
       "        text-align: right;\n",
       "    }\n",
       "</style>\n",
       "<table border=\"1\" class=\"dataframe\">\n",
       "  <thead>\n",
       "    <tr style=\"text-align: right;\">\n",
       "      <th></th>\n",
       "      <th>Model</th>\n",
       "      <th>Year</th>\n",
       "      <th>Status</th>\n",
       "      <th>Mileage</th>\n",
       "      <th>Price</th>\n",
       "      <th>MSRP</th>\n",
       "    </tr>\n",
       "    <tr>\n",
       "      <th>id</th>\n",
       "      <th></th>\n",
       "      <th></th>\n",
       "      <th></th>\n",
       "      <th></th>\n",
       "      <th></th>\n",
       "      <th></th>\n",
       "    </tr>\n",
       "  </thead>\n",
       "  <tbody>\n",
       "    <tr>\n",
       "      <th>0</th>\n",
       "      <td>2022 Acura TLX A-Spec</td>\n",
       "      <td>2022</td>\n",
       "      <td>New</td>\n",
       "      <td>Not available</td>\n",
       "      <td>$49,445</td>\n",
       "      <td>MSRP $49,445</td>\n",
       "    </tr>\n",
       "    <tr>\n",
       "      <th>1</th>\n",
       "      <td>2023 Acura RDX A-Spec</td>\n",
       "      <td>2023</td>\n",
       "      <td>New</td>\n",
       "      <td>Not available</td>\n",
       "      <td>$50,895</td>\n",
       "      <td>NaN</td>\n",
       "    </tr>\n",
       "    <tr>\n",
       "      <th>2</th>\n",
       "      <td>2023 Acura TLX Type S</td>\n",
       "      <td>2023</td>\n",
       "      <td>New</td>\n",
       "      <td>Not available</td>\n",
       "      <td>$57,745</td>\n",
       "      <td>NaN</td>\n",
       "    </tr>\n",
       "    <tr>\n",
       "      <th>3</th>\n",
       "      <td>2023 Acura TLX Type S</td>\n",
       "      <td>2023</td>\n",
       "      <td>New</td>\n",
       "      <td>Not available</td>\n",
       "      <td>$57,545</td>\n",
       "      <td>NaN</td>\n",
       "    </tr>\n",
       "    <tr>\n",
       "      <th>4</th>\n",
       "      <td>2019 Acura MDX Sport Hybrid 3.0L w/Technology ...</td>\n",
       "      <td>2019</td>\n",
       "      <td>Used</td>\n",
       "      <td>32,675 mi.</td>\n",
       "      <td>$40,990</td>\n",
       "      <td>$600 price drop</td>\n",
       "    </tr>\n",
       "    <tr>\n",
       "      <th>...</th>\n",
       "      <td>...</td>\n",
       "      <td>...</td>\n",
       "      <td>...</td>\n",
       "      <td>...</td>\n",
       "      <td>...</td>\n",
       "      <td>...</td>\n",
       "    </tr>\n",
       "    <tr>\n",
       "      <th>10005</th>\n",
       "      <td>2023 Volkswagen Atlas 3.6L SE w/Technology</td>\n",
       "      <td>2023</td>\n",
       "      <td>New</td>\n",
       "      <td>Not available</td>\n",
       "      <td>$47,346</td>\n",
       "      <td>NaN</td>\n",
       "    </tr>\n",
       "    <tr>\n",
       "      <th>10006</th>\n",
       "      <td>2023 Volkswagen Taos 1.5T SE</td>\n",
       "      <td>2023</td>\n",
       "      <td>New</td>\n",
       "      <td>Not available</td>\n",
       "      <td>$30,895</td>\n",
       "      <td>NaN</td>\n",
       "    </tr>\n",
       "    <tr>\n",
       "      <th>10007</th>\n",
       "      <td>2012 Volkswagen Beetle</td>\n",
       "      <td>2012</td>\n",
       "      <td>Used</td>\n",
       "      <td>100,395 mi.</td>\n",
       "      <td>$9,994</td>\n",
       "      <td>$252 price drop</td>\n",
       "    </tr>\n",
       "    <tr>\n",
       "      <th>10008</th>\n",
       "      <td>2022 Volkswagen ID.4 Pro S</td>\n",
       "      <td>2022</td>\n",
       "      <td>New</td>\n",
       "      <td>Not available</td>\n",
       "      <td>$52,585</td>\n",
       "      <td>NaN</td>\n",
       "    </tr>\n",
       "    <tr>\n",
       "      <th>10009</th>\n",
       "      <td>2013 Volkswagen Passat 2.5 SE</td>\n",
       "      <td>2013</td>\n",
       "      <td>Used</td>\n",
       "      <td>125,757 mi.</td>\n",
       "      <td>$10,995</td>\n",
       "      <td>NaN</td>\n",
       "    </tr>\n",
       "  </tbody>\n",
       "</table>\n",
       "<p>115762 rows × 6 columns</p>\n",
       "</div>"
      ],
      "text/plain": [
       "                                                   Model  Year Status  \\\n",
       "id                                                                      \n",
       "0                                  2022 Acura TLX A-Spec  2022    New   \n",
       "1                                  2023 Acura RDX A-Spec  2023    New   \n",
       "2                                  2023 Acura TLX Type S  2023    New   \n",
       "3                                  2023 Acura TLX Type S  2023    New   \n",
       "4      2019 Acura MDX Sport Hybrid 3.0L w/Technology ...  2019   Used   \n",
       "...                                                  ...   ...    ...   \n",
       "10005         2023 Volkswagen Atlas 3.6L SE w/Technology  2023    New   \n",
       "10006                       2023 Volkswagen Taos 1.5T SE  2023    New   \n",
       "10007                            2012 Volkswagen Beetle   2012   Used   \n",
       "10008                         2022 Volkswagen ID.4 Pro S  2022    New   \n",
       "10009                      2013 Volkswagen Passat 2.5 SE  2013   Used   \n",
       "\n",
       "             Mileage    Price             MSRP  \n",
       "id                                              \n",
       "0      Not available  $49,445     MSRP $49,445  \n",
       "1      Not available  $50,895              NaN  \n",
       "2      Not available  $57,745              NaN  \n",
       "3      Not available  $57,545              NaN  \n",
       "4         32,675 mi.  $40,990  $600 price drop  \n",
       "...              ...      ...              ...  \n",
       "10005  Not available  $47,346              NaN  \n",
       "10006  Not available  $30,895              NaN  \n",
       "10007    100,395 mi.   $9,994  $252 price drop  \n",
       "10008  Not available  $52,585              NaN  \n",
       "10009    125,757 mi.  $10,995              NaN  \n",
       "\n",
       "[115762 rows x 6 columns]"
      ]
     },
     "execution_count": 64,
     "metadata": {},
     "output_type": "execute_result"
    }
   ],
   "source": [
    "Not_available = ['Not specified', 'Not Priced']\n",
    "df = pd.read_csv('car_data.csv', sep = ',', index_col= 'id', na_values=Not_available)\n",
    "df"
   ]
  },
  {
   "cell_type": "code",
   "execution_count": 65,
   "metadata": {},
   "outputs": [
    {
     "name": "stdout",
     "output_type": "stream",
     "text": [
      "<class 'pandas.core.frame.DataFrame'>\n",
      "Int64Index: 115762 entries, 0 to 10009\n",
      "Data columns (total 6 columns):\n",
      " #   Column   Non-Null Count   Dtype \n",
      "---  ------   --------------   ----- \n",
      " 0   Model    115762 non-null  object\n",
      " 1   Year     115762 non-null  int64 \n",
      " 2   Status   115762 non-null  object\n",
      " 3   Mileage  115762 non-null  object\n",
      " 4   Price    115110 non-null  object\n",
      " 5   MSRP     43665 non-null   object\n",
      "dtypes: int64(1), object(5)\n",
      "memory usage: 6.2+ MB\n"
     ]
    }
   ],
   "source": [
    "df.info()"
   ]
  },
  {
   "attachments": {},
   "cell_type": "markdown",
   "metadata": {},
   "source": [
    "We check our dataset for any amount of missing values."
   ]
  },
  {
   "cell_type": "code",
   "execution_count": 66,
   "metadata": {},
   "outputs": [
    {
     "data": {
      "text/plain": [
       "MSRP       72097\n",
       "Price        652\n",
       "Model          0\n",
       "Year           0\n",
       "Status         0\n",
       "Mileage        0\n",
       "dtype: int64"
      ]
     },
     "execution_count": 66,
     "metadata": {},
     "output_type": "execute_result"
    }
   ],
   "source": [
    "df.isna().sum().sort_values(ascending = False)\n"
   ]
  },
  {
   "attachments": {},
   "cell_type": "markdown",
   "metadata": {},
   "source": [
    "At first glance it seems that there are no null values on the Mileage variable so we'll examine it deeply"
   ]
  },
  {
   "cell_type": "code",
   "execution_count": 67,
   "metadata": {},
   "outputs": [
    {
     "data": {
      "text/plain": [
       "Not available    47868\n",
       "310 mi.            101\n",
       "23,000 mi.          19\n",
       "1,000 mi.           18\n",
       "35,000 mi.          17\n",
       "                 ...  \n",
       "25,796 mi.           1\n",
       "51,830 mi.           1\n",
       "34,991 mi.           1\n",
       "62,460 mi.           1\n",
       "125,757 mi.          1\n",
       "Name: Mileage, Length: 49282, dtype: int64"
      ]
     },
     "execution_count": 67,
     "metadata": {},
     "output_type": "execute_result"
    }
   ],
   "source": [
    "df[\"Mileage\"].value_counts()"
   ]
  },
  {
   "attachments": {},
   "cell_type": "markdown",
   "metadata": {},
   "source": [
    "It turns out that out of 49282 entries, most of them are \"Not available\", in some cases it's because of the car being brand new, so we make sure to check how many of the \"Not Available\" values match the new cars"
   ]
  },
  {
   "cell_type": "code",
   "execution_count": 68,
   "metadata": {},
   "outputs": [
    {
     "data": {
      "text/plain": [
       "id\n",
       "0        New\n",
       "1        New\n",
       "2        New\n",
       "3        New\n",
       "5        New\n",
       "        ... \n",
       "10001    New\n",
       "10004    New\n",
       "10005    New\n",
       "10006    New\n",
       "10008    New\n",
       "Name: Status, Length: 47868, dtype: object"
      ]
     },
     "execution_count": 68,
     "metadata": {},
     "output_type": "execute_result"
    }
   ],
   "source": [
    "df[df[\"Mileage\"]==\"Not available\"][\"Status\"]"
   ]
  },
  {
   "attachments": {},
   "cell_type": "markdown",
   "metadata": {},
   "source": [
    "We find out that only 10008 entries have a New car matched to them, that means that there are 37860 entries that are null values"
   ]
  },
  {
   "attachments": {},
   "cell_type": "markdown",
   "metadata": {},
   "source": [
    "2. Data Cleaning"
   ]
  },
  {
   "attachments": {},
   "cell_type": "markdown",
   "metadata": {},
   "source": [
    "Since the ammount of missing values on the MSRP and Mileage columns surpasses the 10%, the following needs to be done:\n",
    "- Drop the MSRP column\n",
    "- Drop the Mileage column \n",
    "\n",
    "As for the Price, we'll convert it into a float in order to replace missing values."
   ]
  },
  {
   "cell_type": "code",
   "execution_count": 69,
   "metadata": {},
   "outputs": [
    {
     "name": "stdout",
     "output_type": "stream",
     "text": [
      "<class 'pandas.core.frame.DataFrame'>\n",
      "Int64Index: 115762 entries, 0 to 10009\n",
      "Data columns (total 4 columns):\n",
      " #   Column  Non-Null Count   Dtype  \n",
      "---  ------  --------------   -----  \n",
      " 0   Model   115762 non-null  object \n",
      " 1   Year    115762 non-null  int64  \n",
      " 2   Status  115762 non-null  object \n",
      " 3   Price   115762 non-null  float64\n",
      "dtypes: float64(1), int64(1), object(2)\n",
      "memory usage: 4.4+ MB\n"
     ]
    },
    {
     "data": {
      "text/plain": [
       "Model     0\n",
       "Year      0\n",
       "Status    0\n",
       "Price     0\n",
       "dtype: int64"
      ]
     },
     "execution_count": 69,
     "metadata": {},
     "output_type": "execute_result"
    }
   ],
   "source": [
    "df.drop(columns = ['Mileage','MSRP'], inplace = True)\n",
    "def clean_currency(x):\n",
    "    \"\"\" If the value is a string, then remove currency symbol and delimiters\n",
    "    otherwise, the value is numeric and can be converted\n",
    "    \"\"\"\n",
    "    if isinstance(x, str):\n",
    "        return(x.replace('$', '').replace(',', ''))\n",
    "    return(x)\n",
    "\n",
    "df['Price'] = df['Price'].apply(clean_currency).astype('float')\n",
    "df['Price'] = df['Price'].fillna(df['Price'].mode()[0])\n",
    "\n",
    "df.info()\n",
    "df.isna().sum().sort_values(ascending = False)"
   ]
  },
  {
   "attachments": {},
   "cell_type": "markdown",
   "metadata": {},
   "source": [
    "With the data cleaning and sample obtained, we are going to split the year, brand and model separately"
   ]
  },
  {
   "cell_type": "code",
   "execution_count": 70,
   "metadata": {},
   "outputs": [
    {
     "data": {
      "text/plain": [
       "2023 Mercedes-Benz S-Class S 580 4MATIC    916\n",
       "2023 Mercedes-Benz S-Class S 500 4MATIC    800\n",
       "2023 Mercedes-Benz GLE 450 AWD 4MATIC      700\n",
       "2018 Tesla Model 3 Long Range              548\n",
       "2022 Mercedes-Benz S-Class S 580 4MATIC    500\n",
       "                                          ... \n",
       "2011 INFINITI QX56 7-passenger               1\n",
       "2015 INFINITI QX60 Base (CVT)                1\n",
       "2022 INFINITI QX80 LUXE                      1\n",
       "2010 INFINITI M35                            1\n",
       "2011 Volkswagen Tiguan SE                    1\n",
       "Name: Model, Length: 9216, dtype: int64"
      ]
     },
     "execution_count": 70,
     "metadata": {},
     "output_type": "execute_result"
    }
   ],
   "source": [
    "df[\"Model\"].value_counts()"
   ]
  },
  {
   "cell_type": "code",
   "execution_count": 71,
   "metadata": {},
   "outputs": [],
   "source": [
    "def brand_extraction(model):\n",
    "  # We split the model value in diferent values, for example:\n",
    "  # [\"2023\",\"Mercedes-Benz\",\"S-Class\",\"S\",\"580\",\"4MATIC\"]\n",
    "  m = model.split(\" \")\n",
    "  brand = m[1] ## we take the brand from the split \n",
    "  return brand\n",
    "\n",
    "df[\"Brand\"] = df[\"Model\"].apply(brand_extraction)\n"
   ]
  },
  {
   "cell_type": "code",
   "execution_count": 72,
   "metadata": {},
   "outputs": [],
   "source": [
    "def model_extraction(model):\n",
    "  m = model.split(\" \")\n",
    "  return \" \".join(m[2:4])\n",
    "\n",
    "df[\"Model\"] = df[\"Model\"].apply(model_extraction)"
   ]
  },
  {
   "attachments": {},
   "cell_type": "markdown",
   "metadata": {},
   "source": [
    "We'll delete duplicate values in order to asess the models themselves"
   ]
  },
  {
   "cell_type": "code",
   "execution_count": 73,
   "metadata": {},
   "outputs": [],
   "source": [
    "df = df.drop_duplicates()"
   ]
  },
  {
   "cell_type": "code",
   "execution_count": 74,
   "metadata": {},
   "outputs": [
    {
     "data": {
      "text/html": [
       "<div>\n",
       "<style scoped>\n",
       "    .dataframe tbody tr th:only-of-type {\n",
       "        vertical-align: middle;\n",
       "    }\n",
       "\n",
       "    .dataframe tbody tr th {\n",
       "        vertical-align: top;\n",
       "    }\n",
       "\n",
       "    .dataframe thead th {\n",
       "        text-align: right;\n",
       "    }\n",
       "</style>\n",
       "<table border=\"1\" class=\"dataframe\">\n",
       "  <thead>\n",
       "    <tr style=\"text-align: right;\">\n",
       "      <th></th>\n",
       "      <th>Model</th>\n",
       "      <th>Year</th>\n",
       "      <th>Status</th>\n",
       "      <th>Price</th>\n",
       "      <th>Brand</th>\n",
       "    </tr>\n",
       "    <tr>\n",
       "      <th>id</th>\n",
       "      <th></th>\n",
       "      <th></th>\n",
       "      <th></th>\n",
       "      <th></th>\n",
       "      <th></th>\n",
       "    </tr>\n",
       "  </thead>\n",
       "  <tbody>\n",
       "    <tr>\n",
       "      <th>0</th>\n",
       "      <td>TLX A-Spec</td>\n",
       "      <td>2022</td>\n",
       "      <td>New</td>\n",
       "      <td>49445.0</td>\n",
       "      <td>Acura</td>\n",
       "    </tr>\n",
       "    <tr>\n",
       "      <th>1</th>\n",
       "      <td>RDX A-Spec</td>\n",
       "      <td>2023</td>\n",
       "      <td>New</td>\n",
       "      <td>50895.0</td>\n",
       "      <td>Acura</td>\n",
       "    </tr>\n",
       "    <tr>\n",
       "      <th>2</th>\n",
       "      <td>TLX Type</td>\n",
       "      <td>2023</td>\n",
       "      <td>New</td>\n",
       "      <td>57745.0</td>\n",
       "      <td>Acura</td>\n",
       "    </tr>\n",
       "    <tr>\n",
       "      <th>3</th>\n",
       "      <td>TLX Type</td>\n",
       "      <td>2023</td>\n",
       "      <td>New</td>\n",
       "      <td>57545.0</td>\n",
       "      <td>Acura</td>\n",
       "    </tr>\n",
       "    <tr>\n",
       "      <th>4</th>\n",
       "      <td>MDX Sport</td>\n",
       "      <td>2019</td>\n",
       "      <td>Used</td>\n",
       "      <td>40990.0</td>\n",
       "      <td>Acura</td>\n",
       "    </tr>\n",
       "  </tbody>\n",
       "</table>\n",
       "</div>"
      ],
      "text/plain": [
       "         Model  Year Status    Price  Brand\n",
       "id                                         \n",
       "0   TLX A-Spec  2022    New  49445.0  Acura\n",
       "1   RDX A-Spec  2023    New  50895.0  Acura\n",
       "2     TLX Type  2023    New  57745.0  Acura\n",
       "3     TLX Type  2023    New  57545.0  Acura\n",
       "4    MDX Sport  2019   Used  40990.0  Acura"
      ]
     },
     "execution_count": 74,
     "metadata": {},
     "output_type": "execute_result"
    }
   ],
   "source": [
    "df.head()"
   ]
  },
  {
   "cell_type": "code",
   "execution_count": 75,
   "metadata": {},
   "outputs": [
    {
     "data": {
      "text/plain": [
       "Used                    55538\n",
       "New                     28699\n",
       "Porsche Certified        1804\n",
       "Acura Certified          1012\n",
       "INFINITI Certified        839\n",
       "Volkswagen Certified      772\n",
       "BMW Certified             561\n",
       "Dodge Certified           377\n",
       "Chevrolet Certified       206\n",
       "Toyota Certified          183\n",
       "Ford Certified             29\n",
       "Name: Status, dtype: int64"
      ]
     },
     "execution_count": 75,
     "metadata": {},
     "output_type": "execute_result"
    }
   ],
   "source": [
    "df[\"Status\"].value_counts()"
   ]
  },
  {
   "attachments": {},
   "cell_type": "markdown",
   "metadata": {},
   "source": [
    "Since there are a lot of certified values, we'll simplify it down to three"
   ]
  },
  {
   "cell_type": "code",
   "execution_count": 76,
   "metadata": {},
   "outputs": [
    {
     "name": "stderr",
     "output_type": "stream",
     "text": [
      "C:\\Users\\Boss7\\AppData\\Local\\Temp\\ipykernel_28964\\864128867.py:5: SettingWithCopyWarning: \n",
      "A value is trying to be set on a copy of a slice from a DataFrame.\n",
      "Try using .loc[row_indexer,col_indexer] = value instead\n",
      "\n",
      "See the caveats in the documentation: https://pandas.pydata.org/pandas-docs/stable/user_guide/indexing.html#returning-a-view-versus-a-copy\n",
      "  df[\"Status\"] = df[\"Status\"].apply(change_status)\n"
     ]
    }
   ],
   "source": [
    "def change_status(status):\n",
    "  if(\"Certified\" in status):\n",
    "    return \"Certified\"\n",
    "  return status\n",
    "df[\"Status\"] = df[\"Status\"].apply(change_status)"
   ]
  },
  {
   "cell_type": "code",
   "execution_count": 79,
   "metadata": {},
   "outputs": [],
   "source": [
    "new_col_order = [\"Brand\",\"Model\",\"Year\",\"Status\",\"Price\"]\n",
    "df= df.reindex(columns = new_col_order)"
   ]
  },
  {
   "cell_type": "code",
   "execution_count": 80,
   "metadata": {},
   "outputs": [
    {
     "data": {
      "text/html": [
       "<div>\n",
       "<style scoped>\n",
       "    .dataframe tbody tr th:only-of-type {\n",
       "        vertical-align: middle;\n",
       "    }\n",
       "\n",
       "    .dataframe tbody tr th {\n",
       "        vertical-align: top;\n",
       "    }\n",
       "\n",
       "    .dataframe thead th {\n",
       "        text-align: right;\n",
       "    }\n",
       "</style>\n",
       "<table border=\"1\" class=\"dataframe\">\n",
       "  <thead>\n",
       "    <tr style=\"text-align: right;\">\n",
       "      <th></th>\n",
       "      <th>Brand</th>\n",
       "      <th>Model</th>\n",
       "      <th>Year</th>\n",
       "      <th>Status</th>\n",
       "      <th>Price</th>\n",
       "    </tr>\n",
       "    <tr>\n",
       "      <th>id</th>\n",
       "      <th></th>\n",
       "      <th></th>\n",
       "      <th></th>\n",
       "      <th></th>\n",
       "      <th></th>\n",
       "    </tr>\n",
       "  </thead>\n",
       "  <tbody>\n",
       "    <tr>\n",
       "      <th>0</th>\n",
       "      <td>Acura</td>\n",
       "      <td>TLX A-Spec</td>\n",
       "      <td>2022</td>\n",
       "      <td>New</td>\n",
       "      <td>49445.0</td>\n",
       "    </tr>\n",
       "    <tr>\n",
       "      <th>1</th>\n",
       "      <td>Acura</td>\n",
       "      <td>RDX A-Spec</td>\n",
       "      <td>2023</td>\n",
       "      <td>New</td>\n",
       "      <td>50895.0</td>\n",
       "    </tr>\n",
       "    <tr>\n",
       "      <th>2</th>\n",
       "      <td>Acura</td>\n",
       "      <td>TLX Type</td>\n",
       "      <td>2023</td>\n",
       "      <td>New</td>\n",
       "      <td>57745.0</td>\n",
       "    </tr>\n",
       "    <tr>\n",
       "      <th>3</th>\n",
       "      <td>Acura</td>\n",
       "      <td>TLX Type</td>\n",
       "      <td>2023</td>\n",
       "      <td>New</td>\n",
       "      <td>57545.0</td>\n",
       "    </tr>\n",
       "    <tr>\n",
       "      <th>4</th>\n",
       "      <td>Acura</td>\n",
       "      <td>MDX Sport</td>\n",
       "      <td>2019</td>\n",
       "      <td>Used</td>\n",
       "      <td>40990.0</td>\n",
       "    </tr>\n",
       "  </tbody>\n",
       "</table>\n",
       "</div>"
      ],
      "text/plain": [
       "    Brand       Model  Year Status    Price\n",
       "id                                         \n",
       "0   Acura  TLX A-Spec  2022    New  49445.0\n",
       "1   Acura  RDX A-Spec  2023    New  50895.0\n",
       "2   Acura    TLX Type  2023    New  57745.0\n",
       "3   Acura    TLX Type  2023    New  57545.0\n",
       "4   Acura   MDX Sport  2019   Used  40990.0"
      ]
     },
     "execution_count": 80,
     "metadata": {},
     "output_type": "execute_result"
    }
   ],
   "source": [
    "df.head()"
   ]
  }
 ],
 "metadata": {
  "kernelspec": {
   "display_name": "Python 3",
   "language": "python",
   "name": "python3"
  },
  "language_info": {
   "codemirror_mode": {
    "name": "ipython",
    "version": 3
   },
   "file_extension": ".py",
   "mimetype": "text/x-python",
   "name": "python",
   "nbconvert_exporter": "python",
   "pygments_lexer": "ipython3",
   "version": "3.10.2"
  },
  "orig_nbformat": 4,
  "vscode": {
   "interpreter": {
    "hash": "8752a3743d6a7c0a6de20691dd916c139e08e4bca10339426c7597d1cf50df4e"
   }
  }
 },
 "nbformat": 4,
 "nbformat_minor": 2
}
